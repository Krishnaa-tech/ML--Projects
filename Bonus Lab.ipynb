{
 "cells": [
  {
   "cell_type": "markdown",
   "id": "5d7697a7",
   "metadata": {},
   "source": [
    "# <center>BONUS LAB  Classification Evaluation Metrics\n",
    "\n",
    "---------------------------\n",
    "\n",
    "Name: **KRISH GOYAL** <br>\n",
    "Reg No: **21112015** <br>\n",
    "Class: **4 BSC DS** <br>\n",
    "\n",
    "---------------\n",
    "    \n",
    "<u>**Objectives**</u>  \n",
    "- Create user defined functions for creating the following for a binary classification problem, when y_pred and y_test is given -\n",
    "\n",
    "1) Confusion Matrix\n",
    "2) Accuracy Score\n",
    "3) Precision\n",
    "4) Recall\n",
    "5) F1 Score\n",
    "6) Plotting points on a AUC Curve\n",
    "\n",
    "-----------------\n",
    "    \n",
    "<u>**Problem Statement**</u>  \n",
    "- Making and Resuing def functions for Evaluation Matric for Classification Problem\n",
    "    \n",
    "-------------------\n",
    "    \n",
    "<u>**Methods**</u> \n",
    "- sns.Heatmap\n",
    "- Precision, Accuracy Score, Recall, F1 Score, AUC, Confusion Matrix\n",
    "    \n",
    "------------------\n",
    "    \n",
    "<u>**Observations**</u>\n",
    "- The functions for working of Precision, Accuracy Score, Recall, F1 Score, AUC, Confusion Matrix\n",
    "------------------\n",
    " \n",
    "<u>**Results**</u>\n",
    "- There is a Confusion Matrix made with heatmap.\n",
    "\n",
    "------------------\n",
    " \n",
    "<u>**Learnings & Reflection**</u>\n",
    "- The dataset taken shows a significant changes in different ways of evaluation in evaluation matrix.\n",
    "\n",
    "------------------\n",
    "\n",
    "<u>**References**</u> <br> \n",
    "1. [Pandas Documendation](https://pandas.pydata.org/)<br>\n",
    "\n",
    "***************\n",
    "    \n",
    "[Github Link](https://github.com/Krishlavasa/Python-Projects.git)<br>\n",
    "------------------"
   ]
  },
  {
   "cell_type": "code",
   "execution_count": 1,
   "id": "648a2b03",
   "metadata": {},
   "outputs": [],
   "source": [
    "import numpy as np\n",
    "import pandas as pd\n",
    "import matplotlib.pyplot as plt\n",
    "import seaborn as sns\n",
    "%matplotlib inline"
   ]
  },
  {
   "cell_type": "code",
   "execution_count": 2,
   "id": "d3eb2ac6",
   "metadata": {
    "scrolled": true
   },
   "outputs": [
    {
     "data": {
      "text/html": [
       "<div>\n",
       "<style scoped>\n",
       "    .dataframe tbody tr th:only-of-type {\n",
       "        vertical-align: middle;\n",
       "    }\n",
       "\n",
       "    .dataframe tbody tr th {\n",
       "        vertical-align: top;\n",
       "    }\n",
       "\n",
       "    .dataframe thead th {\n",
       "        text-align: right;\n",
       "    }\n",
       "</style>\n",
       "<table border=\"1\" class=\"dataframe\">\n",
       "  <thead>\n",
       "    <tr style=\"text-align: right;\">\n",
       "      <th></th>\n",
       "      <th>y_test</th>\n",
       "      <th>y_pred</th>\n",
       "    </tr>\n",
       "  </thead>\n",
       "  <tbody>\n",
       "    <tr>\n",
       "      <th>0</th>\n",
       "      <td>0</td>\n",
       "      <td>0</td>\n",
       "    </tr>\n",
       "    <tr>\n",
       "      <th>1</th>\n",
       "      <td>1</td>\n",
       "      <td>0</td>\n",
       "    </tr>\n",
       "    <tr>\n",
       "      <th>2</th>\n",
       "      <td>0</td>\n",
       "      <td>0</td>\n",
       "    </tr>\n",
       "    <tr>\n",
       "      <th>3</th>\n",
       "      <td>1</td>\n",
       "      <td>1</td>\n",
       "    </tr>\n",
       "    <tr>\n",
       "      <th>4</th>\n",
       "      <td>0</td>\n",
       "      <td>0</td>\n",
       "    </tr>\n",
       "    <tr>\n",
       "      <th>5</th>\n",
       "      <td>0</td>\n",
       "      <td>1</td>\n",
       "    </tr>\n",
       "    <tr>\n",
       "      <th>6</th>\n",
       "      <td>1</td>\n",
       "      <td>0</td>\n",
       "    </tr>\n",
       "    <tr>\n",
       "      <th>7</th>\n",
       "      <td>0</td>\n",
       "      <td>1</td>\n",
       "    </tr>\n",
       "    <tr>\n",
       "      <th>8</th>\n",
       "      <td>1</td>\n",
       "      <td>1</td>\n",
       "    </tr>\n",
       "    <tr>\n",
       "      <th>9</th>\n",
       "      <td>1</td>\n",
       "      <td>0</td>\n",
       "    </tr>\n",
       "    <tr>\n",
       "      <th>10</th>\n",
       "      <td>1</td>\n",
       "      <td>1</td>\n",
       "    </tr>\n",
       "    <tr>\n",
       "      <th>11</th>\n",
       "      <td>0</td>\n",
       "      <td>0</td>\n",
       "    </tr>\n",
       "  </tbody>\n",
       "</table>\n",
       "</div>"
      ],
      "text/plain": [
       "    y_test  y_pred\n",
       "0        0       0\n",
       "1        1       0\n",
       "2        0       0\n",
       "3        1       1\n",
       "4        0       0\n",
       "5        0       1\n",
       "6        1       0\n",
       "7        0       1\n",
       "8        1       1\n",
       "9        1       0\n",
       "10       1       1\n",
       "11       0       0"
      ]
     },
     "execution_count": 2,
     "metadata": {},
     "output_type": "execute_result"
    }
   ],
   "source": [
    "data = {'y_test': [0,1,0,1,0,0,1,0,1,1,1,0],'y_pred': [0,0,0,1,0,1,0,1,1,0,1,0]}\n",
    "df = pd.DataFrame(data)\n",
    "df"
   ]
  },
  {
   "cell_type": "code",
   "execution_count": 3,
   "id": "3b8ed362",
   "metadata": {},
   "outputs": [],
   "source": [
    "def evaluation_matrix(y_test, y_pred,type = None):\n",
    "    tp = 0\n",
    "    tn = 0\n",
    "    fp = 0\n",
    "    fn = 0\n",
    "\n",
    "    for i in range(len(y_test)):\n",
    "        if y_test[i] == 1 and y_pred[i] == 1:\n",
    "            tp += 1\n",
    "        elif y_test[i] == 0 and y_pred[i] == 0:\n",
    "            tn += 1\n",
    "        elif y_test[i] == 0 and y_pred[i] == 1:\n",
    "            fp += 1\n",
    "        elif y_test[i] == 1 and y_pred[i] == 0:\n",
    "            fn += 1\n",
    "\n",
    "    confusion_matrix = np.matrix([[tn, fp], [fn, tp]])\n",
    "\n",
    "    if type == 'Confusion_Matrix':\n",
    "        g = sns.heatmap(confusion_matrix, annot=True)\n",
    "        g.set_xlabel('Predicted Value' , fontsize=12)\n",
    "        g.set_ylabel('Actual Value' , fontsize=12)\n",
    "    \n",
    "    elif type == 'Accuracy_Score':\n",
    "        accuracy_score = (tp + tn)/(tp+tn+fp+fn)\n",
    "        return accuracy_score\n",
    "    elif type == 'Precison':\n",
    "        precision = tp/(tp+fp)\n",
    "        return precision\n",
    "    elif type == 'Recall':\n",
    "        recall = tp/(tp+fn)\n",
    "        return tp/(tp+fn)\n",
    "    elif type == 'F1_Score':\n",
    "        f1score = (2*((tp/(tp+fp))*(tp/(tp+fn))))/((tp/(tp+fp))+(tp/(tp+fn)))\n",
    "        return f1score\n",
    "    elif type == 'AUC':\n",
    "        thresholds = [0, 0.1, 0.2, 0.3, 0.4, 0.5, 0.6, 0.7, 0.8, 0.9, 1]\n",
    "        TPR = []\n",
    "        FPR = []\n",
    "        for t in thresholds:\n",
    "            TP_t = sum((y_pred >= t) & (y_test == 1))\n",
    "            FP_t = sum((y_pred>= t) & (y_test == 0))\n",
    "            TPR_t = TP_t / tp\n",
    "            FPR_t = FP_t / fp\n",
    "            TPR.append(TPR_t)\n",
    "            FPR.append(FPR_t)\n",
    "        plt.plot(FPR,TPR,'r--')\n",
    "        plt.title('ROC Curve')\n",
    "        plt.ylabel('True Positive Rate')\n",
    "        plt.xlabel('False Positive Rate')\n",
    "        auc= plt.show()\n",
    "            "
   ]
  },
  {
   "cell_type": "code",
   "execution_count": 4,
   "id": "e181c179",
   "metadata": {},
   "outputs": [
    {
     "data": {
      "image/png": "[encoded data removed]",
      "text/plain": [
       "<Figure size 640x480 with 2 Axes>"
      ]
     },
     "metadata": {},
     "output_type": "display_data"
    }
   ],
   "source": [
    "evaluation_matrix(df['y_test'], df['y_pred'],type = 'Confusion_Matrix')"
   ]
  },
  {
   "cell_type": "code",
   "execution_count": 5,
   "id": "58a52837",
   "metadata": {},
   "outputs": [
    {
     "data": {
      "text/plain": [
       "0.5833333333333334"
      ]
     },
     "execution_count": 5,
     "metadata": {},
     "output_type": "execute_result"
    }
   ],
   "source": [
    "evaluation_matrix(df['y_test'], df['y_pred'],type = 'Accuracy_Score')"
   ]
  },
  {
   "cell_type": "code",
   "execution_count": 6,
   "id": "5c934fa0",
   "metadata": {
    "scrolled": true
   },
   "outputs": [],
   "source": [
    "evaluation_matrix(df['y_test'], df['y_pred'],type = 'Precision')"
   ]
  },
  {
   "cell_type": "code",
   "execution_count": 7,
   "id": "2405f0a1",
   "metadata": {},
   "outputs": [
    {
     "data": {
      "text/plain": [
       "0.5"
      ]
     },
     "execution_count": 7,
     "metadata": {},
     "output_type": "execute_result"
    }
   ],
   "source": [
    "evaluation_matrix(df['y_test'], df['y_pred'],type = 'Recall')"
   ]
  },
  {
   "cell_type": "code",
   "execution_count": 8,
   "id": "aa6294fd",
   "metadata": {},
   "outputs": [
    {
     "data": {
      "text/plain": [
       "0.5454545454545454"
      ]
     },
     "execution_count": 8,
     "metadata": {},
     "output_type": "execute_result"
    }
   ],
   "source": [
    "evaluation_matrix(df['y_test'], df['y_pred'],type = 'F1_Score')"
   ]
  },
  {
   "cell_type": "code",
   "execution_count": 9,
   "id": "aaef5e09",
   "metadata": {},
   "outputs": [
    {
     "data": {
      "image/png": "[encoded data removed]",
      "text/plain": [
       "<Figure size 640x480 with 1 Axes>"
      ]
     },
     "metadata": {},
     "output_type": "display_data"
    }
   ],
   "source": [
    "evaluation_matrix(df['y_test'], df['y_pred'],type = 'AUC')"
   ]
  },
  {
   "cell_type": "code",
   "execution_count": 10,
   "id": "6070f2ee",
   "metadata": {},
   "outputs": [
    {
     "ename": "NameError",
     "evalue": "name 'main' is not defined",
     "output_type": "error",
     "traceback": [
      "\u001b[1;31m---------------------------------------------------------------------------\u001b[0m",
      "\u001b[1;31mNameError\u001b[0m                                 Traceback (most recent call last)",
      "Cell \u001b[1;32mIn[10], line 72\u001b[0m\n\u001b[0;32m     69\u001b[0m         auc \u001b[38;5;241m=\u001b[39m AUC(y_test,y_pred)\n\u001b[0;32m     71\u001b[0m \u001b[38;5;28;01mif\u001b[39;00m \u001b[38;5;18m__name__\u001b[39m \u001b[38;5;241m==\u001b[39m \u001b[38;5;124m\"\u001b[39m\u001b[38;5;124m__main__\u001b[39m\u001b[38;5;124m\"\u001b[39m:\n\u001b[1;32m---> 72\u001b[0m     \u001b[43mmain\u001b[49m()\n",
      "\u001b[1;31mNameError\u001b[0m: name 'main' is not defined"
     ]
    }
   ],
   "source": [
    "class Evaluation: \n",
    "    def __init__(Self,y_test,y_pred):\n",
    "        self.name = name\n",
    "        self.y_test = y_test\n",
    "        self.y_pred = y_pred\n",
    "        \n",
    "        self.tp = 0\n",
    "        self.tn = 0\n",
    "        self.fp = 0\n",
    "        self.fn = 0\n",
    "    def Confusion_Matrix(y_test, y_pred):\n",
    "        for i in range(len(y_test)):\n",
    "            if y_test[i] == 1 and y_pred[i] == 1:\n",
    "                self.tp += 1\n",
    "            elif y_test[i] == 0 and y_pred[i] == 0:\n",
    "                self.tn += 1\n",
    "            elif y_test[i] == 0 and y_pred[i] == 1:\n",
    "                self.fp += 1\n",
    "            elif y_test[i] == 1 and y_pred[i] == 0:\n",
    "                self.fn += 1\n",
    "\n",
    "        confusion_matrix = np.matrix([[self.tn, self.fp], [self.fn, self.tp]])\n",
    "\n",
    "     \n",
    "        g = sns.heatmap(confusion_matrix, annot=True)\n",
    "        g.set_xlabel('Predicted Value' , fontsize=12)\n",
    "        g.set_ylabel('Actual ' , fontsize=12)\n",
    "        return self.evaluation_matrix\n",
    "    \n",
    "    def Accuracy_Score(y_test, y_pred):\n",
    "        accuracy_score = (self.tp + self.tn)/(self.tp+self.tn+self.fp+self.fn)\n",
    "        return self.Accuracy_Score\n",
    "        \n",
    "    def Precison(y_test, y_pred):\n",
    "            precision = self.tp/(self.tp+self.fp)\n",
    "            return self.Precison\n",
    "        \n",
    "    def Recall(y_test,y_pred):\n",
    "        recall = self.tp/(self.tp+self.fn)\n",
    "        return self.Recall\n",
    "        \n",
    "    def F1_Score(y_test,y_pred):\n",
    "        f1score = (2*((self.tp/(self.tp+self.fp))*(self.tp/(self.tp+self.fn))))/((self.tp/(self.tp+self.fp))+(self.tp/(self.tp+self.fn)))\n",
    "        return self.F1_Score\n",
    "        \n",
    "    def AUC(y_test,y_pred):\n",
    "        threshold = []\n",
    "        fpr = []\n",
    "        tpr = []\n",
    "        for t in threshold:\n",
    "            tp_t = sum((self.y_pred >= t) & (self.y_test == 1))\n",
    "            fp_t = sum((self.y_pred >= t) & (self.y_test == 0))\n",
    "            TPR_t = tp_t / self.tp\n",
    "            FPR_t = fp_t / self.fp\n",
    "            tpr.append(TPR_t)\n",
    "            fpr.append(FPR_t)\n",
    "        plt.plot(fpr,tpr,'r--')\n",
    "        plt.title('ROC Curve (AUC={:.3f})'.format(auc))\n",
    "        plt.ylabel('True Positive Rate')\n",
    "        plt.xlabel('False Positive Rate')\n",
    "        return self.AUC\n",
    "    \n",
    "    def main():\n",
    "        confusion_matrix = Confusion_Matrix(y_test, y_pred)\n",
    "        accuracy_score = Accuracy_Score(y_test, y_pred)\n",
    "        precision = Precison(y_test, y_pred)\n",
    "        recall = Recall(y_test, y_pred)\n",
    "        f1score = F1_Score(y_test,y_pred)\n",
    "        auc = AUC(y_test,y_pred)\n",
    "\n",
    "if __name__ == \"__main__\":\n",
    "    main()"
   ]
  },
  {
   "cell_type": "code",
   "execution_count": null,
   "id": "5987ec65",
   "metadata": {},
   "outputs": [],
   "source": []
  }
 ],
 "metadata": {
  "kernelspec": {
   "display_name": "Python 3",
   "language": "python",
   "name": "python3"
  },
  "language_info": {
   "codemirror_mode": {
    "name": "ipython",
    "version": 3
   },
   "file_extension": ".py",
   "mimetype": "text/x-python",
   "name": "python",
   "nbconvert_exporter": "python",
   "pygments_lexer": "ipython3",
   "version": "3.8.8"
  }
 },
 "nbformat": 4,
 "nbformat_minor": 5
}
