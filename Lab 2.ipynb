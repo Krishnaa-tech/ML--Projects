{
 "cells": [
  {
   "cell_type": "markdown",
   "id": "1cfaef3d",
   "metadata": {},
   "source": [
    "# <center>LAB 2 - EDA / Feature Engineering\n",
    "\n",
    "---------------------------\n",
    "\n",
    "Name: **KRISH GOYAL** <br>\n",
    "Reg No: **21112015** <br>\n",
    "Class: **3 BSC DS** <br>\n",
    "\n",
    "---------------\n",
    "    \n",
    "<u>**Objectives**</u>  \n",
    "1. From the attached file, load the three different sheets as \"df1\", \"df2\", and \"df3\" onto the memory of Jupyter Notebook, as Python DataFrames.\n",
    "2. Write the user defined functions for the implementation of following - To find the measures of central tendency. Another function parameter can select what type of value should be returned.\n",
    "- Mean\n",
    "- Median\n",
    "- Mode <br>\n",
    "\t2.2. To scale a list of Numerical Values between 0 and 1 (minimum and maximum will be respectively 0, and 1)\n",
    "    \n",
    "\t2.3. Given a number and a set of values (in a list), find the percentile of the number in that array set.\n",
    "    \n",
    "\t2.4. Given a set of values, categorise the datapoints into  LEFT_OUTLIER, MIN, Q1, Q2, Q3, MAX, RIGHT_OUTLIER, and plot the above values onto an axis\n",
    "\n",
    "\t2.5. Given two sets of values, find the correlation between them\n",
    "\n",
    "    2.6. To encode and decode a Categorical Variable into a Numerical Representation.\n",
    "\t2.7. To check the goodness of fit for the Regression Model using Evaluation Metrics. The evaluation metrics can be selected based on a parameter (\"R2\", \"MSE\", \"MAE\").\n",
    "- R-Squared (R² or the coefficient of determination)\n",
    "- Mean Squared Error\n",
    "- Mean Absolute Error\n",
    "3. Make use of the above user-defined functions, and illustrate the results. In addition that, perform the below tasks - <br>\n",
    "\t\n",
    "    3.1. Test the User Defined Functions that you code for various functionalities, and verify its validity by comparing with functions in sklearn.preprocessing \n",
    "\t\n",
    "    3.2.Find the percentile of the number \"last two digits of your register number + 10\" in df2.\n",
    "\t\n",
    "    3.3. Check whether the dataset size affects the values of Regression Evaluation Metrics\n",
    "\t3.4. Is there any relationship between the Squared Pearson Correlation Coefficient and R2 value?\n",
    "\n",
    "-----------------\n",
    "    \n",
    "<u>**Problem Statement**</u>  \n",
    "- To perform EDA and apply Feature Enginnering techniques on the dataset and obtain new insigths from the dataset.\n",
    "    \n",
    "-------------------\n",
    "    \n",
    "<u>**Methods**</u> \n",
    "- Reading the data through pandas library using **pd.read_csv()**\n",
    "- df.info() to get description of the dataset.\n",
    "- \n",
    "- Understand the significance of Boxplot\n",
    "------------------\n",
    "    \n",
    "<u>**Observations**</u>\n",
    "- There are 15,30 & 30 values in df1, df2, df3 respectively.\n",
    "\n",
    "For More no of values , higher MAE (0.9>0.867)\n",
    "For higher , MSE(1.97>1.67)\n",
    "R-squared test more no of data values , lesser the r test value.Smaller the absolute value ,will be the larger number. (-0.002>-0.004)\n",
    "- Yes , there is a relationship between the Squared Correlation Coff & R2 value.\n",
    "    \n",
    "------------------\n",
    " \n",
    "<u>**Results**</u>\n",
    "- Yes, There is a relationship between the Squared Correlation Coff & R2 value.\n",
    "------------------\n",
    " \n",
    "<u>**Learnings & Reflection**</u>\n",
    "- Uses of Boxplot and other visualizations of factorPlot.\n",
    "\n",
    "------------------\n",
    "\n",
    "<u>**References**</u> <br> \n",
    "1. [Pandas Documendation](https://pandas.pydata.org/)<br>\n",
    "2. https://www.geeksforgeeks.org/ml-label-encoding-of-datasets-in-python/\n",
    "***************\n",
    "    \n",
    "[Github Link](https://github.com/Krishnaa-tech/ML-Projects.git)<br>\n",
    "------------------"
   ]
  },
  {
   "cell_type": "markdown",
   "id": "a883fe7f",
   "metadata": {},
   "source": [
    "<u><center>**Completion Status**</u>\n",
    "\n",
    "| Question Number | Status |\n",
    "|---|---|\n",
    "| 1 | Completed |\n",
    "| 2 | Completed |\n",
    "| 3 | Completed |"
   ]
  },
  {
   "cell_type": "code",
   "execution_count": 1,
   "id": "36043a17",
   "metadata": {},
   "outputs": [],
   "source": [
    "import pandas as pd\n",
    "import numpy as np\n",
    "import matplotlib.pyplot as plt\n",
    "df1 = pd.read_excel(\"D:/COLLEGE DATA/SEM IV/BDS471L - Machine Learning/Lab2_UDF_Labs.xlsx\", sheet_name= 'Dataset1')\n",
    "df2 = pd.read_excel(\"D:/COLLEGE DATA/SEM IV/BDS471L - Machine Learning/Lab2_UDF_Labs.xlsx\", sheet_name= 'Dataset2')\n",
    "df3 = pd.read_excel(\"D:/COLLEGE DATA/SEM IV/BDS471L - Machine Learning/Lab2_UDF_Labs.xlsx\", sheet_name= 'Dataset3')"
   ]
  },
  {
   "cell_type": "code",
   "execution_count": 2,
   "id": "1e61e819",
   "metadata": {},
   "outputs": [
    {
     "data": {
      "text/html": [
       "<div>\n",
       "<style scoped>\n",
       "    .dataframe tbody tr th:only-of-type {\n",
       "        vertical-align: middle;\n",
       "    }\n",
       "\n",
       "    .dataframe tbody tr th {\n",
       "        vertical-align: top;\n",
       "    }\n",
       "\n",
       "    .dataframe thead th {\n",
       "        text-align: right;\n",
       "    }\n",
       "</style>\n",
       "<table border=\"1\" class=\"dataframe\">\n",
       "  <thead>\n",
       "    <tr style=\"text-align: right;\">\n",
       "      <th></th>\n",
       "      <th>True_Value</th>\n",
       "      <th>Predicted_Value</th>\n",
       "    </tr>\n",
       "  </thead>\n",
       "  <tbody>\n",
       "    <tr>\n",
       "      <th>0</th>\n",
       "      <td>10</td>\n",
       "      <td>10</td>\n",
       "    </tr>\n",
       "    <tr>\n",
       "      <th>1</th>\n",
       "      <td>17</td>\n",
       "      <td>17</td>\n",
       "    </tr>\n",
       "    <tr>\n",
       "      <th>2</th>\n",
       "      <td>26</td>\n",
       "      <td>24</td>\n",
       "    </tr>\n",
       "    <tr>\n",
       "      <th>3</th>\n",
       "      <td>30</td>\n",
       "      <td>31</td>\n",
       "    </tr>\n",
       "    <tr>\n",
       "      <th>4</th>\n",
       "      <td>31</td>\n",
       "      <td>31</td>\n",
       "    </tr>\n",
       "    <tr>\n",
       "      <th>5</th>\n",
       "      <td>32</td>\n",
       "      <td>32</td>\n",
       "    </tr>\n",
       "    <tr>\n",
       "      <th>6</th>\n",
       "      <td>35</td>\n",
       "      <td>33</td>\n",
       "    </tr>\n",
       "    <tr>\n",
       "      <th>7</th>\n",
       "      <td>36</td>\n",
       "      <td>37</td>\n",
       "    </tr>\n",
       "    <tr>\n",
       "      <th>8</th>\n",
       "      <td>38</td>\n",
       "      <td>37</td>\n",
       "    </tr>\n",
       "    <tr>\n",
       "      <th>9</th>\n",
       "      <td>39</td>\n",
       "      <td>40</td>\n",
       "    </tr>\n",
       "    <tr>\n",
       "      <th>10</th>\n",
       "      <td>40</td>\n",
       "      <td>40</td>\n",
       "    </tr>\n",
       "    <tr>\n",
       "      <th>11</th>\n",
       "      <td>40</td>\n",
       "      <td>40</td>\n",
       "    </tr>\n",
       "    <tr>\n",
       "      <th>12</th>\n",
       "      <td>42</td>\n",
       "      <td>42</td>\n",
       "    </tr>\n",
       "    <tr>\n",
       "      <th>13</th>\n",
       "      <td>44</td>\n",
       "      <td>42</td>\n",
       "    </tr>\n",
       "    <tr>\n",
       "      <th>14</th>\n",
       "      <td>48</td>\n",
       "      <td>45</td>\n",
       "    </tr>\n",
       "  </tbody>\n",
       "</table>\n",
       "</div>"
      ],
      "text/plain": [
       "    True_Value  Predicted_Value\n",
       "0           10               10\n",
       "1           17               17\n",
       "2           26               24\n",
       "3           30               31\n",
       "4           31               31\n",
       "5           32               32\n",
       "6           35               33\n",
       "7           36               37\n",
       "8           38               37\n",
       "9           39               40\n",
       "10          40               40\n",
       "11          40               40\n",
       "12          42               42\n",
       "13          44               42\n",
       "14          48               45"
      ]
     },
     "execution_count": 2,
     "metadata": {},
     "output_type": "execute_result"
    }
   ],
   "source": [
    "df1"
   ]
  },
  {
   "cell_type": "code",
   "execution_count": 3,
   "id": "49ae7659",
   "metadata": {},
   "outputs": [
    {
     "data": {
      "text/html": [
       "<div>\n",
       "<style scoped>\n",
       "    .dataframe tbody tr th:only-of-type {\n",
       "        vertical-align: middle;\n",
       "    }\n",
       "\n",
       "    .dataframe tbody tr th {\n",
       "        vertical-align: top;\n",
       "    }\n",
       "\n",
       "    .dataframe thead th {\n",
       "        text-align: right;\n",
       "    }\n",
       "</style>\n",
       "<table border=\"1\" class=\"dataframe\">\n",
       "  <thead>\n",
       "    <tr style=\"text-align: right;\">\n",
       "      <th></th>\n",
       "      <th>True_Value</th>\n",
       "      <th>Predicted_Value</th>\n",
       "    </tr>\n",
       "  </thead>\n",
       "  <tbody>\n",
       "    <tr>\n",
       "      <th>0</th>\n",
       "      <td>10</td>\n",
       "      <td>10</td>\n",
       "    </tr>\n",
       "    <tr>\n",
       "      <th>1</th>\n",
       "      <td>16</td>\n",
       "      <td>17</td>\n",
       "    </tr>\n",
       "    <tr>\n",
       "      <th>2</th>\n",
       "      <td>17</td>\n",
       "      <td>17</td>\n",
       "    </tr>\n",
       "    <tr>\n",
       "      <th>3</th>\n",
       "      <td>20</td>\n",
       "      <td>19</td>\n",
       "    </tr>\n",
       "    <tr>\n",
       "      <th>4</th>\n",
       "      <td>26</td>\n",
       "      <td>24</td>\n",
       "    </tr>\n",
       "    <tr>\n",
       "      <th>5</th>\n",
       "      <td>28</td>\n",
       "      <td>28</td>\n",
       "    </tr>\n",
       "    <tr>\n",
       "      <th>6</th>\n",
       "      <td>30</td>\n",
       "      <td>31</td>\n",
       "    </tr>\n",
       "    <tr>\n",
       "      <th>7</th>\n",
       "      <td>31</td>\n",
       "      <td>31</td>\n",
       "    </tr>\n",
       "    <tr>\n",
       "      <th>8</th>\n",
       "      <td>31</td>\n",
       "      <td>31</td>\n",
       "    </tr>\n",
       "    <tr>\n",
       "      <th>9</th>\n",
       "      <td>32</td>\n",
       "      <td>32</td>\n",
       "    </tr>\n",
       "    <tr>\n",
       "      <th>10</th>\n",
       "      <td>32</td>\n",
       "      <td>32</td>\n",
       "    </tr>\n",
       "    <tr>\n",
       "      <th>11</th>\n",
       "      <td>34</td>\n",
       "      <td>32</td>\n",
       "    </tr>\n",
       "    <tr>\n",
       "      <th>12</th>\n",
       "      <td>35</td>\n",
       "      <td>33</td>\n",
       "    </tr>\n",
       "    <tr>\n",
       "      <th>13</th>\n",
       "      <td>36</td>\n",
       "      <td>36</td>\n",
       "    </tr>\n",
       "    <tr>\n",
       "      <th>14</th>\n",
       "      <td>36</td>\n",
       "      <td>37</td>\n",
       "    </tr>\n",
       "    <tr>\n",
       "      <th>15</th>\n",
       "      <td>37</td>\n",
       "      <td>37</td>\n",
       "    </tr>\n",
       "    <tr>\n",
       "      <th>16</th>\n",
       "      <td>38</td>\n",
       "      <td>37</td>\n",
       "    </tr>\n",
       "    <tr>\n",
       "      <th>17</th>\n",
       "      <td>38</td>\n",
       "      <td>37</td>\n",
       "    </tr>\n",
       "    <tr>\n",
       "      <th>18</th>\n",
       "      <td>39</td>\n",
       "      <td>40</td>\n",
       "    </tr>\n",
       "    <tr>\n",
       "      <th>19</th>\n",
       "      <td>39</td>\n",
       "      <td>40</td>\n",
       "    </tr>\n",
       "    <tr>\n",
       "      <th>20</th>\n",
       "      <td>40</td>\n",
       "      <td>40</td>\n",
       "    </tr>\n",
       "    <tr>\n",
       "      <th>21</th>\n",
       "      <td>40</td>\n",
       "      <td>40</td>\n",
       "    </tr>\n",
       "    <tr>\n",
       "      <th>22</th>\n",
       "      <td>40</td>\n",
       "      <td>40</td>\n",
       "    </tr>\n",
       "    <tr>\n",
       "      <th>23</th>\n",
       "      <td>41</td>\n",
       "      <td>40</td>\n",
       "    </tr>\n",
       "    <tr>\n",
       "      <th>24</th>\n",
       "      <td>42</td>\n",
       "      <td>42</td>\n",
       "    </tr>\n",
       "    <tr>\n",
       "      <th>25</th>\n",
       "      <td>42</td>\n",
       "      <td>42</td>\n",
       "    </tr>\n",
       "    <tr>\n",
       "      <th>26</th>\n",
       "      <td>44</td>\n",
       "      <td>42</td>\n",
       "    </tr>\n",
       "    <tr>\n",
       "      <th>27</th>\n",
       "      <td>46</td>\n",
       "      <td>42</td>\n",
       "    </tr>\n",
       "    <tr>\n",
       "      <th>28</th>\n",
       "      <td>48</td>\n",
       "      <td>45</td>\n",
       "    </tr>\n",
       "    <tr>\n",
       "      <th>29</th>\n",
       "      <td>49</td>\n",
       "      <td>46</td>\n",
       "    </tr>\n",
       "  </tbody>\n",
       "</table>\n",
       "</div>"
      ],
      "text/plain": [
       "    True_Value  Predicted_Value\n",
       "0           10               10\n",
       "1           16               17\n",
       "2           17               17\n",
       "3           20               19\n",
       "4           26               24\n",
       "5           28               28\n",
       "6           30               31\n",
       "7           31               31\n",
       "8           31               31\n",
       "9           32               32\n",
       "10          32               32\n",
       "11          34               32\n",
       "12          35               33\n",
       "13          36               36\n",
       "14          36               37\n",
       "15          37               37\n",
       "16          38               37\n",
       "17          38               37\n",
       "18          39               40\n",
       "19          39               40\n",
       "20          40               40\n",
       "21          40               40\n",
       "22          40               40\n",
       "23          41               40\n",
       "24          42               42\n",
       "25          42               42\n",
       "26          44               42\n",
       "27          46               42\n",
       "28          48               45\n",
       "29          49               46"
      ]
     },
     "execution_count": 3,
     "metadata": {},
     "output_type": "execute_result"
    }
   ],
   "source": [
    "df2"
   ]
  },
  {
   "cell_type": "code",
   "execution_count": 4,
   "id": "bc20ec0c",
   "metadata": {},
   "outputs": [
    {
     "data": {
      "text/html": [
       "<div>\n",
       "<style scoped>\n",
       "    .dataframe tbody tr th:only-of-type {\n",
       "        vertical-align: middle;\n",
       "    }\n",
       "\n",
       "    .dataframe tbody tr th {\n",
       "        vertical-align: top;\n",
       "    }\n",
       "\n",
       "    .dataframe thead th {\n",
       "        text-align: right;\n",
       "    }\n",
       "</style>\n",
       "<table border=\"1\" class=\"dataframe\">\n",
       "  <thead>\n",
       "    <tr style=\"text-align: right;\">\n",
       "      <th></th>\n",
       "      <th>True_Value</th>\n",
       "      <th>Result</th>\n",
       "      <th>Predicted_Value</th>\n",
       "    </tr>\n",
       "  </thead>\n",
       "  <tbody>\n",
       "    <tr>\n",
       "      <th>0</th>\n",
       "      <td>10</td>\n",
       "      <td>Fail</td>\n",
       "      <td>10</td>\n",
       "    </tr>\n",
       "    <tr>\n",
       "      <th>1</th>\n",
       "      <td>16</td>\n",
       "      <td>Fail</td>\n",
       "      <td>17</td>\n",
       "    </tr>\n",
       "    <tr>\n",
       "      <th>2</th>\n",
       "      <td>17</td>\n",
       "      <td>Fail</td>\n",
       "      <td>17</td>\n",
       "    </tr>\n",
       "    <tr>\n",
       "      <th>3</th>\n",
       "      <td>20</td>\n",
       "      <td>Fail</td>\n",
       "      <td>19</td>\n",
       "    </tr>\n",
       "    <tr>\n",
       "      <th>4</th>\n",
       "      <td>26</td>\n",
       "      <td>Fail</td>\n",
       "      <td>24</td>\n",
       "    </tr>\n",
       "    <tr>\n",
       "      <th>5</th>\n",
       "      <td>28</td>\n",
       "      <td>Fail</td>\n",
       "      <td>28</td>\n",
       "    </tr>\n",
       "    <tr>\n",
       "      <th>6</th>\n",
       "      <td>30</td>\n",
       "      <td>Fail</td>\n",
       "      <td>31</td>\n",
       "    </tr>\n",
       "    <tr>\n",
       "      <th>7</th>\n",
       "      <td>31</td>\n",
       "      <td>Fail</td>\n",
       "      <td>31</td>\n",
       "    </tr>\n",
       "    <tr>\n",
       "      <th>8</th>\n",
       "      <td>31</td>\n",
       "      <td>Fail</td>\n",
       "      <td>31</td>\n",
       "    </tr>\n",
       "    <tr>\n",
       "      <th>9</th>\n",
       "      <td>32</td>\n",
       "      <td>Fail</td>\n",
       "      <td>32</td>\n",
       "    </tr>\n",
       "    <tr>\n",
       "      <th>10</th>\n",
       "      <td>32</td>\n",
       "      <td>Fail</td>\n",
       "      <td>32</td>\n",
       "    </tr>\n",
       "    <tr>\n",
       "      <th>11</th>\n",
       "      <td>34</td>\n",
       "      <td>Fail</td>\n",
       "      <td>32</td>\n",
       "    </tr>\n",
       "    <tr>\n",
       "      <th>12</th>\n",
       "      <td>35</td>\n",
       "      <td>Pass</td>\n",
       "      <td>33</td>\n",
       "    </tr>\n",
       "    <tr>\n",
       "      <th>13</th>\n",
       "      <td>36</td>\n",
       "      <td>Pass</td>\n",
       "      <td>36</td>\n",
       "    </tr>\n",
       "    <tr>\n",
       "      <th>14</th>\n",
       "      <td>36</td>\n",
       "      <td>Pass</td>\n",
       "      <td>37</td>\n",
       "    </tr>\n",
       "    <tr>\n",
       "      <th>15</th>\n",
       "      <td>37</td>\n",
       "      <td>Pass</td>\n",
       "      <td>37</td>\n",
       "    </tr>\n",
       "    <tr>\n",
       "      <th>16</th>\n",
       "      <td>38</td>\n",
       "      <td>Pass</td>\n",
       "      <td>37</td>\n",
       "    </tr>\n",
       "    <tr>\n",
       "      <th>17</th>\n",
       "      <td>38</td>\n",
       "      <td>Pass</td>\n",
       "      <td>37</td>\n",
       "    </tr>\n",
       "    <tr>\n",
       "      <th>18</th>\n",
       "      <td>39</td>\n",
       "      <td>Pass</td>\n",
       "      <td>40</td>\n",
       "    </tr>\n",
       "    <tr>\n",
       "      <th>19</th>\n",
       "      <td>39</td>\n",
       "      <td>Pass</td>\n",
       "      <td>40</td>\n",
       "    </tr>\n",
       "    <tr>\n",
       "      <th>20</th>\n",
       "      <td>40</td>\n",
       "      <td>Pass</td>\n",
       "      <td>40</td>\n",
       "    </tr>\n",
       "    <tr>\n",
       "      <th>21</th>\n",
       "      <td>40</td>\n",
       "      <td>Pass</td>\n",
       "      <td>40</td>\n",
       "    </tr>\n",
       "    <tr>\n",
       "      <th>22</th>\n",
       "      <td>40</td>\n",
       "      <td>Pass</td>\n",
       "      <td>40</td>\n",
       "    </tr>\n",
       "    <tr>\n",
       "      <th>23</th>\n",
       "      <td>41</td>\n",
       "      <td>Pass</td>\n",
       "      <td>40</td>\n",
       "    </tr>\n",
       "    <tr>\n",
       "      <th>24</th>\n",
       "      <td>42</td>\n",
       "      <td>Pass</td>\n",
       "      <td>42</td>\n",
       "    </tr>\n",
       "    <tr>\n",
       "      <th>25</th>\n",
       "      <td>42</td>\n",
       "      <td>Pass</td>\n",
       "      <td>42</td>\n",
       "    </tr>\n",
       "    <tr>\n",
       "      <th>26</th>\n",
       "      <td>44</td>\n",
       "      <td>Pass</td>\n",
       "      <td>42</td>\n",
       "    </tr>\n",
       "    <tr>\n",
       "      <th>27</th>\n",
       "      <td>46</td>\n",
       "      <td>Pass</td>\n",
       "      <td>42</td>\n",
       "    </tr>\n",
       "    <tr>\n",
       "      <th>28</th>\n",
       "      <td>48</td>\n",
       "      <td>Pass</td>\n",
       "      <td>45</td>\n",
       "    </tr>\n",
       "    <tr>\n",
       "      <th>29</th>\n",
       "      <td>49</td>\n",
       "      <td>Pass</td>\n",
       "      <td>46</td>\n",
       "    </tr>\n",
       "  </tbody>\n",
       "</table>\n",
       "</div>"
      ],
      "text/plain": [
       "    True_Value Result  Predicted_Value\n",
       "0           10   Fail               10\n",
       "1           16   Fail               17\n",
       "2           17   Fail               17\n",
       "3           20   Fail               19\n",
       "4           26   Fail               24\n",
       "5           28   Fail               28\n",
       "6           30   Fail               31\n",
       "7           31   Fail               31\n",
       "8           31   Fail               31\n",
       "9           32   Fail               32\n",
       "10          32   Fail               32\n",
       "11          34   Fail               32\n",
       "12          35   Pass               33\n",
       "13          36   Pass               36\n",
       "14          36   Pass               37\n",
       "15          37   Pass               37\n",
       "16          38   Pass               37\n",
       "17          38   Pass               37\n",
       "18          39   Pass               40\n",
       "19          39   Pass               40\n",
       "20          40   Pass               40\n",
       "21          40   Pass               40\n",
       "22          40   Pass               40\n",
       "23          41   Pass               40\n",
       "24          42   Pass               42\n",
       "25          42   Pass               42\n",
       "26          44   Pass               42\n",
       "27          46   Pass               42\n",
       "28          48   Pass               45\n",
       "29          49   Pass               46"
      ]
     },
     "execution_count": 4,
     "metadata": {},
     "output_type": "execute_result"
    }
   ],
   "source": [
    "df3"
   ]
  },
  {
   "cell_type": "code",
   "execution_count": 5,
   "id": "307218f5",
   "metadata": {},
   "outputs": [],
   "source": [
    "list_df1 = df1.values.tolist()\n",
    "list_df2 = df2.values.tolist()\n",
    "list_df3 = df3.values.tolist()"
   ]
  },
  {
   "cell_type": "markdown",
   "id": "35ffdcba",
   "metadata": {},
   "source": [
    "## Question 2:"
   ]
  },
  {
   "cell_type": "code",
   "execution_count": 6,
   "id": "bda1e5a2",
   "metadata": {},
   "outputs": [],
   "source": [
    "def centralTendency(n, return_type= \"x\"):\n",
    "    #Mean\n",
    "    mean = round(sum(list(filter(lambda x: (x),n)))/len(n))\n",
    "\n",
    "    #Median\n",
    "    sorted_data = sorted(n)\n",
    "    if len(n) % 2 == 0:\n",
    "        median = (sorted_data[len(n)//2] + sorted_data[len(n)//2 - 1]) / 2\n",
    "    else:\n",
    "        median = sorted_data[len(n)//2]\n",
    "\n",
    "    #Mode\n",
    "    y={}\n",
    "    for a in n:\n",
    "        if not a in y:\n",
    "            y[a]=1\n",
    "        else:\n",
    "            y[a]+=1\n",
    "    return [g for g,l in y.items() if l==max(y.values())]\n",
    "    #Return Nodes\n",
    "    if return_type == 'mean':\n",
    "        return mean\n",
    "    elif return_type == 'median':\n",
    "        return median\n",
    "    elif return_type == 'mode':\n",
    "        return mode\n",
    "    else:\n",
    "        return None"
   ]
  },
  {
   "cell_type": "code",
   "execution_count": 7,
   "id": "c6229d2a",
   "metadata": {},
   "outputs": [
    {
     "data": {
      "text/plain": [
       "[54]"
      ]
     },
     "execution_count": 7,
     "metadata": {},
     "output_type": "execute_result"
    }
   ],
   "source": [
    "n = [12,33,44,45,444,54,45,54,45,54,54,543]\n",
    "centralTendency(n,'mode')"
   ]
  },
  {
   "cell_type": "code",
   "execution_count": 8,
   "id": "5b71172c",
   "metadata": {},
   "outputs": [],
   "source": [
    "def scaleData(n,s_min= 0,s_max = 1):\n",
    "    cur_min = np.min(n)\n",
    "    cur_max = np.max(n)\n",
    "    \n",
    "    data = (n-cur_min)/ (cur_max - cur_min)\n",
    "    return data"
   ]
  },
  {
   "cell_type": "code",
   "execution_count": 9,
   "id": "725fe8e8",
   "metadata": {},
   "outputs": [
    {
     "data": {
      "text/plain": [
       "array([[0.        , 0.        ],\n",
       "       [0.15384615, 0.17948718],\n",
       "       [0.17948718, 0.17948718],\n",
       "       [0.25641026, 0.23076923],\n",
       "       [0.41025641, 0.35897436],\n",
       "       [0.46153846, 0.46153846],\n",
       "       [0.51282051, 0.53846154],\n",
       "       [0.53846154, 0.53846154],\n",
       "       [0.53846154, 0.53846154],\n",
       "       [0.56410256, 0.56410256],\n",
       "       [0.56410256, 0.56410256],\n",
       "       [0.61538462, 0.56410256],\n",
       "       [0.64102564, 0.58974359],\n",
       "       [0.66666667, 0.66666667],\n",
       "       [0.66666667, 0.69230769],\n",
       "       [0.69230769, 0.69230769],\n",
       "       [0.71794872, 0.69230769],\n",
       "       [0.71794872, 0.69230769],\n",
       "       [0.74358974, 0.76923077],\n",
       "       [0.74358974, 0.76923077],\n",
       "       [0.76923077, 0.76923077],\n",
       "       [0.76923077, 0.76923077],\n",
       "       [0.76923077, 0.76923077],\n",
       "       [0.79487179, 0.76923077],\n",
       "       [0.82051282, 0.82051282],\n",
       "       [0.82051282, 0.82051282],\n",
       "       [0.87179487, 0.82051282],\n",
       "       [0.92307692, 0.82051282],\n",
       "       [0.97435897, 0.8974359 ],\n",
       "       [1.        , 0.92307692]])"
      ]
     },
     "execution_count": 9,
     "metadata": {},
     "output_type": "execute_result"
    }
   ],
   "source": [
    "scaleData(list_df2)"
   ]
  },
  {
   "cell_type": "code",
   "execution_count": 10,
   "id": "dcdb12d9",
   "metadata": {},
   "outputs": [],
   "source": [
    "arr = [12,23,58,82,56,54,78,12,32,15]"
   ]
  },
  {
   "cell_type": "code",
   "execution_count": 11,
   "id": "4b468c1b",
   "metadata": {},
   "outputs": [],
   "source": [
    "def index(arr,n):\n",
    "    for i in range(0,len(arr)):\n",
    "        if arr[i] == n:\n",
    "            return i"
   ]
  },
  {
   "cell_type": "code",
   "execution_count": 12,
   "id": "283c6f63",
   "metadata": {},
   "outputs": [
    {
     "data": {
      "text/plain": [
       "4"
      ]
     },
     "execution_count": 12,
     "metadata": {},
     "output_type": "execute_result"
    }
   ],
   "source": [
    "index(arr,56)"
   ]
  },
  {
   "cell_type": "code",
   "execution_count": 13,
   "id": "e0b198a8",
   "metadata": {},
   "outputs": [],
   "source": [
    "def percentile(arr,n):\n",
    "    index_val = index(arr,n)\n",
    "    num = len(arr)\n",
    "    per = (index_val/num)*100\n",
    "    return per"
   ]
  },
  {
   "cell_type": "code",
   "execution_count": 14,
   "id": "7f570f77",
   "metadata": {},
   "outputs": [
    {
     "data": {
      "text/plain": [
       "40.0"
      ]
     },
     "execution_count": 14,
     "metadata": {},
     "output_type": "execute_result"
    }
   ],
   "source": [
    "percentile(arr,56)"
   ]
  },
  {
   "cell_type": "code",
   "execution_count": 15,
   "id": "6e64daa7",
   "metadata": {},
   "outputs": [],
   "source": [
    "def boxplot(n):\n",
    "    q1 = np.percentile(n,25)\n",
    "    q2 = np.percentile(n,50)\n",
    "    q3 = np.percentile(n,75)\n",
    "    \n",
    "    IQR = q3-q1\n",
    "    \n",
    "    minimum = np.min(n)\n",
    "    maximum = np.max(n)\n",
    "    \n",
    "    low_lim = q1 - 1.5 * IQR\n",
    "    up_lim = q3 + 1.5 * IQR\n",
    "    right_outlier = []\n",
    "    left_outlier = []\n",
    "    for i in n:\n",
    "        if (i>up_lim):\n",
    "            right_outlier.append(i)\n",
    "    for i in n:\n",
    "        if (i<low_lim):\n",
    "            left_outlier.append(i)\n",
    "            \n",
    "    value = {'Left Outlier':left_outlier,'Right Outlier':right_outlier,'Min':minimum,'Max':maximum,'Q1':q1,'Q2':q2,'Q3':q3}\n",
    "    return value\n",
    "\n",
    "def plotBoxplot(points_x,points_y):\n",
    "    x = points_x\n",
    "    y = points_y\n",
    "    \n",
    "    plt.scatter(x,y,color=['blue','hotpink','yellow','green','red'])"
   ]
  },
  {
   "cell_type": "code",
   "execution_count": 16,
   "id": "eeb38edc",
   "metadata": {},
   "outputs": [
    {
     "data": {
      "text/plain": [
       "{'Left Outlier': [],\n",
       " 'Right Outlier': [310, 858],\n",
       " 'Min': 1,\n",
       " 'Max': 858,\n",
       " 'Q1': 10.0,\n",
       " 'Q2': 47.0,\n",
       " 'Q3': 82.5}"
      ]
     },
     "execution_count": 16,
     "metadata": {},
     "output_type": "execute_result"
    }
   ],
   "source": [
    "values = boxplot([1,20,310,8,8,7,65,68,78,56,96,85,25,1,38,84,858,16])\n",
    "values"
   ]
  },
  {
   "cell_type": "code",
   "execution_count": 17,
   "id": "43d1af46",
   "metadata": {},
   "outputs": [
    {
     "data": {
      "image/png": "[encoded data removed]",
      "text/plain": [
       "<Figure size 432x288 with 1 Axes>"
      ]
     },
     "metadata": {
      "needs_background": "light"
     },
     "output_type": "display_data"
    }
   ],
   "source": [
    "Min = values['Min']\n",
    "Max = values['Max']\n",
    "Q1 = values['Q1']\n",
    "Q2 = values['Q2']\n",
    "Q3 = values['Q3']\n",
    "\n",
    "Y = [0,0,0,0,0]\n",
    "plotBoxplot([Min,Max,Q1,Q2,Q3],Y)"
   ]
  },
  {
   "cell_type": "code",
   "execution_count": 18,
   "id": "0317475e",
   "metadata": {},
   "outputs": [],
   "source": [
    "def correlation(x,y):\n",
    "    return np.corrcoef(x,y)"
   ]
  },
  {
   "cell_type": "code",
   "execution_count": 19,
   "id": "c4ca20a9",
   "metadata": {},
   "outputs": [
    {
     "data": {
      "text/plain": [
       "array([[ 1.        , -0.16180136],\n",
       "       [-0.16180136,  1.        ]])"
      ]
     },
     "execution_count": 19,
     "metadata": {},
     "output_type": "execute_result"
    }
   ],
   "source": [
    "x = [2,6,8,6,7,6,64,2,7,3]\n",
    "y = [7,9,7,3,7,2,7,5,63,78]\n",
    "correlation(x,y)"
   ]
  },
  {
   "cell_type": "code",
   "execution_count": 20,
   "id": "9eb103dc",
   "metadata": {},
   "outputs": [],
   "source": [
    "def encode(arr):\n",
    "    df = pd.DataFrame(arr,columns=['Encoded'])\n",
    "    encoded = pd.get_dummies(df)\n",
    "    return encoded"
   ]
  },
  {
   "cell_type": "code",
   "execution_count": 21,
   "id": "62c5df49",
   "metadata": {},
   "outputs": [
    {
     "data": {
      "text/html": [
       "<div>\n",
       "<style scoped>\n",
       "    .dataframe tbody tr th:only-of-type {\n",
       "        vertical-align: middle;\n",
       "    }\n",
       "\n",
       "    .dataframe tbody tr th {\n",
       "        vertical-align: top;\n",
       "    }\n",
       "\n",
       "    .dataframe thead th {\n",
       "        text-align: right;\n",
       "    }\n",
       "</style>\n",
       "<table border=\"1\" class=\"dataframe\">\n",
       "  <thead>\n",
       "    <tr style=\"text-align: right;\">\n",
       "      <th></th>\n",
       "      <th>Encoded_a</th>\n",
       "      <th>Encoded_b</th>\n",
       "      <th>Encoded_c</th>\n",
       "      <th>Encoded_d</th>\n",
       "      <th>Encoded_e</th>\n",
       "      <th>Encoded_f</th>\n",
       "    </tr>\n",
       "  </thead>\n",
       "  <tbody>\n",
       "    <tr>\n",
       "      <th>0</th>\n",
       "      <td>1</td>\n",
       "      <td>0</td>\n",
       "      <td>0</td>\n",
       "      <td>0</td>\n",
       "      <td>0</td>\n",
       "      <td>0</td>\n",
       "    </tr>\n",
       "    <tr>\n",
       "      <th>1</th>\n",
       "      <td>0</td>\n",
       "      <td>0</td>\n",
       "      <td>0</td>\n",
       "      <td>0</td>\n",
       "      <td>0</td>\n",
       "      <td>1</td>\n",
       "    </tr>\n",
       "    <tr>\n",
       "      <th>2</th>\n",
       "      <td>1</td>\n",
       "      <td>0</td>\n",
       "      <td>0</td>\n",
       "      <td>0</td>\n",
       "      <td>0</td>\n",
       "      <td>0</td>\n",
       "    </tr>\n",
       "    <tr>\n",
       "      <th>3</th>\n",
       "      <td>0</td>\n",
       "      <td>0</td>\n",
       "      <td>0</td>\n",
       "      <td>0</td>\n",
       "      <td>0</td>\n",
       "      <td>1</td>\n",
       "    </tr>\n",
       "    <tr>\n",
       "      <th>4</th>\n",
       "      <td>0</td>\n",
       "      <td>1</td>\n",
       "      <td>0</td>\n",
       "      <td>0</td>\n",
       "      <td>0</td>\n",
       "      <td>0</td>\n",
       "    </tr>\n",
       "    <tr>\n",
       "      <th>5</th>\n",
       "      <td>0</td>\n",
       "      <td>0</td>\n",
       "      <td>1</td>\n",
       "      <td>0</td>\n",
       "      <td>0</td>\n",
       "      <td>0</td>\n",
       "    </tr>\n",
       "    <tr>\n",
       "      <th>6</th>\n",
       "      <td>0</td>\n",
       "      <td>0</td>\n",
       "      <td>0</td>\n",
       "      <td>1</td>\n",
       "      <td>0</td>\n",
       "      <td>0</td>\n",
       "    </tr>\n",
       "    <tr>\n",
       "      <th>7</th>\n",
       "      <td>0</td>\n",
       "      <td>0</td>\n",
       "      <td>0</td>\n",
       "      <td>0</td>\n",
       "      <td>1</td>\n",
       "      <td>0</td>\n",
       "    </tr>\n",
       "  </tbody>\n",
       "</table>\n",
       "</div>"
      ],
      "text/plain": [
       "   Encoded_a  Encoded_b  Encoded_c  Encoded_d  Encoded_e  Encoded_f\n",
       "0          1          0          0          0          0          0\n",
       "1          0          0          0          0          0          1\n",
       "2          1          0          0          0          0          0\n",
       "3          0          0          0          0          0          1\n",
       "4          0          1          0          0          0          0\n",
       "5          0          0          1          0          0          0\n",
       "6          0          0          0          1          0          0\n",
       "7          0          0          0          0          1          0"
      ]
     },
     "execution_count": 21,
     "metadata": {},
     "output_type": "execute_result"
    }
   ],
   "source": [
    "arr = ['a','f','a','f','b','c','d','e']\n",
    "encode(arr)"
   ]
  },
  {
   "cell_type": "code",
   "execution_count": 22,
   "id": "991c342f",
   "metadata": {},
   "outputs": [],
   "source": [
    "from sklearn.preprocessing import LabelEncoder\n",
    "\n",
    "def encode_decode(n,encode):\n",
    "    if encode==True:\n",
    "        encoder = LabelEncoder()\n",
    "        encoded_data = encoder.fit_transform(n)\n",
    "        return encoded_data\n",
    "    else:\n",
    "        encoder = LabelEncoder()\n",
    "        encoded_data = encoder.fit_transform(n)\n",
    "        decoded_data = encoder.inverse_transform(encoded_data)\n",
    "        return decoded_data"
   ]
  },
  {
   "cell_type": "code",
   "execution_count": 23,
   "id": "9bdc4687",
   "metadata": {},
   "outputs": [
    {
     "data": {
      "text/plain": [
       "array([0, 5, 0, 5, 1, 2, 3, 4], dtype=int64)"
      ]
     },
     "execution_count": 23,
     "metadata": {},
     "output_type": "execute_result"
    }
   ],
   "source": [
    "arr = ['a','f','a','f','b','c','d','e']\n",
    "encode_decode(arr,True)"
   ]
  },
  {
   "cell_type": "code",
   "execution_count": 24,
   "id": "1833f4a7",
   "metadata": {},
   "outputs": [
    {
     "data": {
      "text/plain": [
       "array(['a', 'f', 'a', 'f', 'b', 'c', 'd', 'e'], dtype='<U1')"
      ]
     },
     "execution_count": 24,
     "metadata": {},
     "output_type": "execute_result"
    }
   ],
   "source": [
    "encode_decode(arr,False)"
   ]
  },
  {
   "cell_type": "code",
   "execution_count": 25,
   "id": "a5e55854",
   "metadata": {},
   "outputs": [],
   "source": [
    "def Rsquared(df,col1,col2):\n",
    "    x = df[col1].values\n",
    "    y = df[col2].values\n",
    "    x_bar = np.mean(x)\n",
    "    y_bar = np.mean(y)\n",
    "    ss_t = np.sum((y-y_bar)**2)\n",
    "    ss_r = np.sum((y-x_bar)**2)\n",
    "    r_squared = 1- (ss_r/ss_t)\n",
    "    return r_squared\n",
    "\n",
    "def mse(df,col1,col2):\n",
    "    squared_diff = (df[col1]-df[col2])**2\n",
    "    mse = np.mean(squared_diff)\n",
    "    return mse\n",
    "\n",
    "def mae(df,col1,col2):\n",
    "    absolute_diff = np.abs(df[col1]-df[col2])\n",
    "    \n",
    "    mae = np.mean(absolute_diff)\n",
    "    \n",
    "    return mae"
   ]
  },
  {
   "cell_type": "code",
   "execution_count": 26,
   "id": "64a4af53",
   "metadata": {},
   "outputs": [
    {
     "data": {
      "text/plain": [
       "Index(['True_Value', 'Predicted_Value'], dtype='object')"
      ]
     },
     "execution_count": 26,
     "metadata": {},
     "output_type": "execute_result"
    }
   ],
   "source": [
    "df1.columns"
   ]
  },
  {
   "cell_type": "code",
   "execution_count": 27,
   "id": "52d8b32d",
   "metadata": {},
   "outputs": [
    {
     "data": {
      "text/plain": [
       "-0.0024062070320169937"
      ]
     },
     "execution_count": 27,
     "metadata": {},
     "output_type": "execute_result"
    }
   ],
   "source": [
    "Rsquared(df1,'True_Value', 'Predicted_Value')"
   ]
  },
  {
   "cell_type": "code",
   "execution_count": 28,
   "id": "35512258",
   "metadata": {},
   "outputs": [
    {
     "data": {
      "text/plain": [
       "1.6666666666666667"
      ]
     },
     "execution_count": 28,
     "metadata": {},
     "output_type": "execute_result"
    }
   ],
   "source": [
    "mse(df1,'True_Value', 'Predicted_Value')"
   ]
  },
  {
   "cell_type": "code",
   "execution_count": 29,
   "id": "5568951f",
   "metadata": {},
   "outputs": [
    {
     "data": {
      "text/plain": [
       "0.8666666666666667"
      ]
     },
     "execution_count": 29,
     "metadata": {},
     "output_type": "execute_result"
    }
   ],
   "source": [
    "mae(df1,'True_Value', 'Predicted_Value')"
   ]
  },
  {
   "cell_type": "markdown",
   "id": "cfcbb229",
   "metadata": {},
   "source": [
    "## Question 3:"
   ]
  },
  {
   "cell_type": "code",
   "execution_count": 30,
   "id": "d42a20b8",
   "metadata": {},
   "outputs": [],
   "source": [
    "x = [1,2,3,5,2,3,1,4,56,5,8,6,4,5,5]"
   ]
  },
  {
   "cell_type": "code",
   "execution_count": 31,
   "id": "7c92b0e1",
   "metadata": {},
   "outputs": [],
   "source": [
    "import statistics\n",
    "def centralTendency(arr):\n",
    "    mean = statistics.mean(arr)\n",
    "    \n",
    "    median = statistics.median(arr)\n",
    "    \n",
    "    mode = statistics.mode(arr)\n",
    "    \n",
    "    value = {'The Mean is':mean,'The Median is':median,'The Mode is':mode}\n",
    "    return value"
   ]
  },
  {
   "cell_type": "code",
   "execution_count": 32,
   "id": "7387c51e",
   "metadata": {},
   "outputs": [
    {
     "data": {
      "text/plain": [
       "{'The Mean is': 7.333333333333333, 'The Median is': 4, 'The Mode is': 5}"
      ]
     },
     "execution_count": 32,
     "metadata": {},
     "output_type": "execute_result"
    }
   ],
   "source": [
    "centralTendency(x)"
   ]
  },
  {
   "cell_type": "code",
   "execution_count": 33,
   "id": "10746838",
   "metadata": {},
   "outputs": [],
   "source": [
    "def Scale(arr,t_min,t_max):\n",
    "    normal = []\n",
    "    diff = t_max - t_min\n",
    "    diff_arr = max(arr) - min(arr)\n",
    "    for i in arr:\n",
    "        cal = (((i-min(arr))*diff)/diff_arr) + t_min\n",
    "        normal.append(cal)\n",
    "    return normal"
   ]
  },
  {
   "cell_type": "code",
   "execution_count": 34,
   "id": "9b5dbe3b",
   "metadata": {},
   "outputs": [
    {
     "data": {
      "text/plain": [
       "[0.0,\n",
       " 0.01818181818181818,\n",
       " 0.03636363636363636,\n",
       " 0.07272727272727272,\n",
       " 0.01818181818181818,\n",
       " 0.03636363636363636,\n",
       " 0.0,\n",
       " 0.05454545454545454,\n",
       " 1.0,\n",
       " 0.07272727272727272,\n",
       " 0.12727272727272726,\n",
       " 0.09090909090909091,\n",
       " 0.05454545454545454,\n",
       " 0.07272727272727272,\n",
       " 0.07272727272727272]"
      ]
     },
     "execution_count": 34,
     "metadata": {},
     "output_type": "execute_result"
    }
   ],
   "source": [
    "normalize_range = (0,1)\n",
    "Scale(x,0,1)"
   ]
  },
  {
   "cell_type": "code",
   "execution_count": 35,
   "id": "f05e131f",
   "metadata": {},
   "outputs": [],
   "source": [
    "from sklearn.preprocessing import MinMaxScaler\n",
    "def scale_values(value):\n",
    "    scalar = MinMaxScaler(feature_range=(0,1))\n",
    "    values_scaled = scalar.fit_transform([[i] for i in value])\n",
    "    return[val[0] for val in values_scaled]"
   ]
  },
  {
   "cell_type": "code",
   "execution_count": 36,
   "id": "b1007ba6",
   "metadata": {},
   "outputs": [
    {
     "data": {
      "text/plain": [
       "[0.0,\n",
       " 0.01818181818181818,\n",
       " 0.03636363636363636,\n",
       " 0.07272727272727272,\n",
       " 0.01818181818181818,\n",
       " 0.03636363636363636,\n",
       " 0.0,\n",
       " 0.05454545454545454,\n",
       " 0.9999999999999999,\n",
       " 0.07272727272727272,\n",
       " 0.12727272727272726,\n",
       " 0.09090909090909091,\n",
       " 0.05454545454545454,\n",
       " 0.07272727272727272,\n",
       " 0.07272727272727272]"
      ]
     },
     "execution_count": 36,
     "metadata": {},
     "output_type": "execute_result"
    }
   ],
   "source": [
    "scale_values(x)"
   ]
  },
  {
   "cell_type": "code",
   "execution_count": 37,
   "id": "7b154b1f",
   "metadata": {},
   "outputs": [
    {
     "ename": "TypeError",
     "evalue": "unsupported operand type(s) for /: 'NoneType' and 'int'",
     "output_type": "error",
     "traceback": [
      "\u001b[1;31m---------------------------------------------------------------------------\u001b[0m",
      "\u001b[1;31mTypeError\u001b[0m                                 Traceback (most recent call last)",
      "\u001b[1;32m<ipython-input-37-b1dffe6627c9>\u001b[0m in \u001b[0;36m<module>\u001b[1;34m\u001b[0m\n\u001b[0;32m      1\u001b[0m \u001b[0mpred\u001b[0m \u001b[1;33m=\u001b[0m \u001b[0mdf2\u001b[0m\u001b[1;33m[\u001b[0m\u001b[1;34m'Predicted_Value'\u001b[0m\u001b[1;33m]\u001b[0m\u001b[1;33m\u001b[0m\u001b[1;33m\u001b[0m\u001b[0m\n\u001b[1;32m----> 2\u001b[1;33m \u001b[0mprint\u001b[0m\u001b[1;33m(\u001b[0m\u001b[1;34m'Predicted for last 2-digit of reg number +10'\u001b[0m\u001b[1;33m,\u001b[0m\u001b[0mpercentile\u001b[0m\u001b[1;33m(\u001b[0m\u001b[0mpred\u001b[0m\u001b[1;33m,\u001b[0m\u001b[1;36m25\u001b[0m\u001b[1;33m)\u001b[0m\u001b[1;33m)\u001b[0m\u001b[1;33m\u001b[0m\u001b[1;33m\u001b[0m\u001b[0m\n\u001b[0m",
      "\u001b[1;32m<ipython-input-13-a6f63b70b2de>\u001b[0m in \u001b[0;36mpercentile\u001b[1;34m(arr, n)\u001b[0m\n\u001b[0;32m      2\u001b[0m     \u001b[0mindex_val\u001b[0m \u001b[1;33m=\u001b[0m \u001b[0mindex\u001b[0m\u001b[1;33m(\u001b[0m\u001b[0marr\u001b[0m\u001b[1;33m,\u001b[0m\u001b[0mn\u001b[0m\u001b[1;33m)\u001b[0m\u001b[1;33m\u001b[0m\u001b[1;33m\u001b[0m\u001b[0m\n\u001b[0;32m      3\u001b[0m     \u001b[0mnum\u001b[0m \u001b[1;33m=\u001b[0m \u001b[0mlen\u001b[0m\u001b[1;33m(\u001b[0m\u001b[0marr\u001b[0m\u001b[1;33m)\u001b[0m\u001b[1;33m\u001b[0m\u001b[1;33m\u001b[0m\u001b[0m\n\u001b[1;32m----> 4\u001b[1;33m     \u001b[0mper\u001b[0m \u001b[1;33m=\u001b[0m \u001b[1;33m(\u001b[0m\u001b[0mindex_val\u001b[0m\u001b[1;33m/\u001b[0m\u001b[0mnum\u001b[0m\u001b[1;33m)\u001b[0m\u001b[1;33m*\u001b[0m\u001b[1;36m100\u001b[0m\u001b[1;33m\u001b[0m\u001b[1;33m\u001b[0m\u001b[0m\n\u001b[0m\u001b[0;32m      5\u001b[0m     \u001b[1;32mreturn\u001b[0m \u001b[0mper\u001b[0m\u001b[1;33m\u001b[0m\u001b[1;33m\u001b[0m\u001b[0m\n",
      "\u001b[1;31mTypeError\u001b[0m: unsupported operand type(s) for /: 'NoneType' and 'int'"
     ]
    }
   ],
   "source": [
    "pred = df2['Predicted_Value']\n",
    "print('Predicted for last 2-digit of reg number +10',percentile(pred,25))"
   ]
  },
  {
   "cell_type": "code",
   "execution_count": 38,
   "id": "839bd647",
   "metadata": {},
   "outputs": [
    {
     "data": {
      "text/plain": [
       "True_Value         15\n",
       "Predicted_Value    15\n",
       "dtype: int64"
      ]
     },
     "execution_count": 38,
     "metadata": {},
     "output_type": "execute_result"
    }
   ],
   "source": [
    "df1.count()"
   ]
  },
  {
   "cell_type": "code",
   "execution_count": 39,
   "id": "a0a75b45",
   "metadata": {},
   "outputs": [
    {
     "data": {
      "text/plain": [
       "True_Value         30\n",
       "Predicted_Value    30\n",
       "dtype: int64"
      ]
     },
     "execution_count": 39,
     "metadata": {},
     "output_type": "execute_result"
    }
   ],
   "source": [
    "df2.count()"
   ]
  },
  {
   "cell_type": "code",
   "execution_count": 40,
   "id": "6e12fec3",
   "metadata": {},
   "outputs": [
    {
     "data": {
      "text/plain": [
       "True_Value         30\n",
       "Result             30\n",
       "Predicted_Value    30\n",
       "dtype: int64"
      ]
     },
     "execution_count": 40,
     "metadata": {},
     "output_type": "execute_result"
    }
   ],
   "source": [
    "df3.count()"
   ]
  },
  {
   "cell_type": "code",
   "execution_count": 41,
   "id": "7ec95876",
   "metadata": {},
   "outputs": [
    {
     "data": {
      "text/plain": [
       "-0.0024062070320169937"
      ]
     },
     "execution_count": 41,
     "metadata": {},
     "output_type": "execute_result"
    }
   ],
   "source": [
    "Rsquared(df1,'True_Value', 'Predicted_Value')"
   ]
  },
  {
   "cell_type": "code",
   "execution_count": 42,
   "id": "4a3d34d4",
   "metadata": {},
   "outputs": [
    {
     "data": {
      "text/plain": [
       "-0.004130931961120465"
      ]
     },
     "execution_count": 42,
     "metadata": {},
     "output_type": "execute_result"
    }
   ],
   "source": [
    "Rsquared(df2,'True_Value', 'Predicted_Value')"
   ]
  },
  {
   "cell_type": "code",
   "execution_count": 43,
   "id": "72645995",
   "metadata": {},
   "outputs": [
    {
     "data": {
      "text/plain": [
       "1.9666666666666666"
      ]
     },
     "execution_count": 43,
     "metadata": {},
     "output_type": "execute_result"
    }
   ],
   "source": [
    "mse(df3,'True_Value', 'Predicted_Value')"
   ]
  },
  {
   "cell_type": "code",
   "execution_count": 44,
   "id": "89dc935a",
   "metadata": {},
   "outputs": [
    {
     "data": {
      "text/plain": [
       "1.6666666666666667"
      ]
     },
     "execution_count": 44,
     "metadata": {},
     "output_type": "execute_result"
    }
   ],
   "source": [
    "mse(df1,'True_Value', 'Predicted_Value')"
   ]
  },
  {
   "cell_type": "code",
   "execution_count": 45,
   "id": "19661a99",
   "metadata": {},
   "outputs": [
    {
     "data": {
      "text/plain": [
       "0.8666666666666667"
      ]
     },
     "execution_count": 45,
     "metadata": {},
     "output_type": "execute_result"
    }
   ],
   "source": [
    "mae(df1,'True_Value', 'Predicted_Value')"
   ]
  },
  {
   "cell_type": "code",
   "execution_count": 46,
   "id": "67f0d5ce",
   "metadata": {},
   "outputs": [
    {
     "data": {
      "text/plain": [
       "0.9"
      ]
     },
     "execution_count": 46,
     "metadata": {},
     "output_type": "execute_result"
    }
   ],
   "source": [
    "mae(df3,'True_Value', 'Predicted_Value')"
   ]
  },
  {
   "cell_type": "markdown",
   "id": "acd6c7bc",
   "metadata": {},
   "source": [
    "*There are 15,30 & 30 values in df1, df2, df3 respectively.*\n",
    "- For More no of values , higher MAE (0.9>0.867)\n",
    "- For higher , MSE(1.97>1.67)\n",
    "- R-squared test more no of data values , lesser the r test value.Smaller the absolute value ,will be the larger number. (-0.002>-0.004)"
   ]
  },
  {
   "cell_type": "code",
   "execution_count": 48,
   "id": "0291e000",
   "metadata": {},
   "outputs": [
    {
     "data": {
      "text/plain": [
       "array([[1.        , 0.62288267],\n",
       "       [0.62288267, 1.        ]])"
      ]
     },
     "execution_count": 48,
     "metadata": {},
     "output_type": "execute_result"
    }
   ],
   "source": [
    "x = [1,4,6,8,9,6,4,6,5,6,4]\n",
    "y = [2,6,8,8,9,6,2,3,5,5,3]\n",
    "\n",
    "r = np.corrcoef(x,y)\n",
    "\n",
    "r_squared = r**2\n",
    "r_squared"
   ]
  },
  {
   "cell_type": "markdown",
   "id": "7f4b8632",
   "metadata": {},
   "source": [
    "**Observation** - *Yes , there is a relationship between the Squared Pearson Correlation Coefficient and R2 value*"
   ]
  }
 ],
 "metadata": {
  "kernelspec": {
   "display_name": "Python 3 (ipykernel)",
   "language": "python",
   "name": "python3"
  },
  "language_info": {
   "codemirror_mode": {
    "name": "ipython",
    "version": 3
   },
   "file_extension": ".py",
   "mimetype": "text/x-python",
   "name": "python",
   "nbconvert_exporter": "python",
   "pygments_lexer": "ipython3",
   "version": "3.8.8"
  }
 },
 "nbformat": 4,
 "nbformat_minor": 5
}
